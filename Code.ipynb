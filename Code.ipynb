{
  "nbformat": 4,
  "nbformat_minor": 0,
  "metadata": {
    "colab": {
      "provenance": [],
      "collapsed_sections": []
    },
    "kernelspec": {
      "name": "python3",
      "display_name": "Python 3"
    },
    "language_info": {
      "name": "python"
    }
  },
  "cells": [
    {
      "cell_type": "code",
      "source": [
        "from google.colab import drive\n",
        "drive.mount('/gdrive')\n",
        "from google.colab import drive\n",
        "drive.mount('/content/drive')"
      ],
      "metadata": {
        "id": "-Utm3nM6fer6"
      },
      "execution_count": null,
      "outputs": []
    },
    {
      "cell_type": "code",
      "source": [
        "import pandas as pd\n",
        "import numpy as np\n",
        "import matplotlib.pyplot as plt\n",
        "%matplotlib inline\n",
        "import seaborn as sns\n",
        "import tensorflow as tf\n",
        "from tensorflow.keras import Input, layers, models, datasets, utils, losses, optimizers \n",
        "\n",
        "from sklearn.model_selection import train_test_split\n",
        "from sklearn.preprocessing import LabelEncoder\n",
        "from tensorflow.keras import Sequential\n",
        "\n",
        "from tensorflow.keras.layers import Dropout, Flatten, Dense\n",
        "from tensorflow.keras.layers import Conv2D, MaxPooling2D\n",
        "#from tensorflow.keras.layers.normalization import BatchNormalization\n",
        "from tensorflow.keras.layers import LeakyReLU"
      ],
      "metadata": {
        "id": "PB7Yi-R8bF-i"
      },
      "execution_count": null,
      "outputs": []
    },
    {
      "cell_type": "code",
      "source": [
        "import os\n",
        "from PIL import Image  # or you can use the keras one to load images\n",
        "def load_dataset(top_dir = \"input_data\"):\n",
        "    images_dataset = []\n",
        "    name_sorted = []\n",
        "    for root, dirs, files in os.walk(top_dir):\n",
        "        for name in files:\n",
        "            name_sorted.append(name)\n",
        "        name_sorted = np.sort(name_sorted)\n",
        "        print(name_sorted) \n",
        "\n",
        "            #print(os.path.join(root, name))\n",
        "        for n in name_sorted:\n",
        "          img = np.array(Image.open(os.path.join(root, n)))\n",
        "          images_dataset.append(img)\n",
        "            \n",
        "    \n",
        "    return images_dataset"
      ],
      "metadata": {
        "id": "cF_E3zl8VqrR"
      },
      "execution_count": null,
      "outputs": []
    },
    {
      "cell_type": "code",
      "source": [
        "data = load_dataset(top_dir = '/content/drive/MyDrive/imagesdata/MRIIMAGES')\n",
        "X = np.array(data)\n"
      ],
      "metadata": {
        "id": "9y7jY4dsauao"
      },
      "execution_count": null,
      "outputs": []
    },
    {
      "cell_type": "code",
      "source": [
        "plt.imshow(X[12], cmap = 'gray')\n"
      ],
      "metadata": {
        "id": "rxe7nTTDHq1l"
      },
      "execution_count": null,
      "outputs": []
    },
    {
      "cell_type": "code",
      "source": [
        "age = pd.read_csv('/content/drive/MyDrive/imagesdata/participants.csv')"
      ],
      "metadata": {
        "id": "5qb9I4cvd7zp"
      },
      "execution_count": null,
      "outputs": []
    },
    {
      "cell_type": "code",
      "source": [
        "\n",
        "X = X.reshape(-1, 189, 157, 1)\n"
      ],
      "metadata": {
        "id": "30FUI80aw_Fe"
      },
      "execution_count": null,
      "outputs": []
    },
    {
      "cell_type": "code",
      "source": [
        "X = X/255."
      ],
      "metadata": {
        "id": "XSHTL10G3BoU"
      },
      "execution_count": null,
      "outputs": []
    },
    {
      "cell_type": "code",
      "source": [
        "X  = X.astype('float32')\n",
        "y = np.array(age['age']).astype('float32')\n",
        "\n"
      ],
      "metadata": {
        "id": "Y6_SLtX-bezx"
      },
      "execution_count": null,
      "outputs": []
    },
    {
      "cell_type": "code",
      "source": [
        "from sklearn.model_selection import train_test_split\n",
        "X_train, X_test, y_train, y_test = train_test_split(X,y, test_size = 0.20, random_state = 75)"
      ],
      "metadata": {
        "id": "CdFC-q_4bZxH"
      },
      "execution_count": null,
      "outputs": []
    },
    {
      "cell_type": "code",
      "source": [
        "model = Sequential()\n",
        "model.add(Conv2D(32, kernel_size=(2, 2), strides = 1, activation='linear',input_shape=(189,157,1),padding='same'))\n",
        "model.add(LeakyReLU(alpha=0.1))\n",
        "model.add(MaxPooling2D((2, 2), strides = 2, padding='same'))\n",
        "\n",
        "model.add(Conv2D(64, (2, 2), strides =1, activation='linear',padding='same'))\n",
        "model.add(LeakyReLU(alpha=0.1))\n",
        "model.add(MaxPooling2D(pool_size=(2, 2),strides = 2, padding='same'))\n",
        "\n",
        "model.add(Conv2D(128, (2, 2), activation='linear', strides = 1, padding='same'))\n",
        "model.add(LeakyReLU(alpha=0.1))                  \n",
        "model.add(MaxPooling2D(pool_size=(2, 2), strides = 2, padding='same'))\n",
        "\n",
        "model.add(Conv2D(256, (2, 2), strides = 1, activation='linear',padding='same'))\n",
        "model.add(LeakyReLU(alpha=0.1))                  \n",
        "model.add(MaxPooling2D(pool_size=(2, 2), strides = 2, padding='same')) \n",
        "\n",
        "model.add(Conv2D(256, (2, 2), strides = 1, activation='linear',padding='same'))\n",
        "model.add(LeakyReLU(alpha=0.1))                  \n",
        "model.add(MaxPooling2D(pool_size=(2, 2), strides = 2, padding='same'))\n",
        "\n",
        "model.add(Flatten())\n",
        "\n",
        "model.add(Dense(128, activation='linear'))\n",
        "model.add(LeakyReLU(alpha=0.1))  \n",
        "\n",
        "model.add(Dense(10, activation='linear'))\n",
        "model.add(LeakyReLU(alpha=0.1))\n",
        "\n",
        "model.add(Dense(1))"
      ],
      "metadata": {
        "id": "NhhVv1uyesgQ"
      },
      "execution_count": null,
      "outputs": []
    },
    {
      "cell_type": "code",
      "source": [
        "model.compile(loss = losses.mae,   \n",
        "              optimizer = optimizers.Adam(learning_rate = 0.001),\n",
        "              metrics = ['mae'])"
      ],
      "metadata": {
        "id": "umTfka7r7_5Z"
      },
      "execution_count": null,
      "outputs": []
    },
    {
      "cell_type": "code",
      "source": [
        "model.summary()"
      ],
      "metadata": {
        "id": "4QI8Ytl_8tm0"
      },
      "execution_count": null,
      "outputs": []
    },
    {
      "cell_type": "code",
      "source": [
        "epochs = 42"
      ],
      "metadata": {
        "id": "_JHLBMXw9A_Z"
      },
      "execution_count": null,
      "outputs": []
    },
    {
      "cell_type": "code",
      "source": [
        "model.fit(X_train, y_train, epochs=epochs)"
      ],
      "metadata": {
        "id": "7AD9d0TX8Rup"
      },
      "execution_count": null,
      "outputs": []
    },
    {
      "cell_type": "code",
      "source": [
        "y_pred = model.predict(X_test)"
      ],
      "metadata": {
        "id": "aKKcZOri9C07"
      },
      "execution_count": null,
      "outputs": []
    },
    {
      "cell_type": "code",
      "source": [
        "a, b = np.polyfit(y_test, y_pred, 1)\n",
        "\n",
        "plt.scatter(y_test, y_pred)\n",
        "\n",
        "plt.plot(y_test, a*y_test+b)\n",
        "plt.xlabel('chronological age')\n",
        "plt.ylabel('predicted age')"
      ],
      "metadata": {
        "id": "tITzfkgNLIkq"
      },
      "execution_count": null,
      "outputs": []
    },
    {
      "cell_type": "code",
      "source": [
        "from scipy.stats import pearsonr\n",
        "corr, _ = pearsonr(y_test, y_pred)\n",
        "print('Pearsons correlation: %.3f' % corr)"
      ],
      "metadata": {
        "id": "hvXnpFPymp2b"
      },
      "execution_count": null,
      "outputs": []
    },
    {
      "cell_type": "code",
      "source": [
        "from sklearn.metrics import r2_score "
      ],
      "metadata": {
        "id": "9tRPEfZXRWJc"
      },
      "execution_count": null,
      "outputs": []
    },
    {
      "cell_type": "code",
      "source": [
        "r2_score(y_test, y_pred)"
      ],
      "metadata": {
        "id": "gFcI2ooVRkMJ"
      },
      "execution_count": null,
      "outputs": []
    },
    {
      "cell_type": "code",
      "source": [
        "plt.figure(figsize = (6,6))\n",
        "sns.boxplot(y = y_pred)\n",
        "plt.title('predicted age')"
      ],
      "metadata": {
        "id": "d_zeLmg7bA0u"
      },
      "execution_count": null,
      "outputs": []
    },
    {
      "cell_type": "code",
      "source": [
        "plt.figure(figsize = (6,6))\n",
        "sns.boxplot(y = y_test)\n",
        "plt.title('chronological age')"
      ],
      "metadata": {
        "id": "9VHW59n8oxhp"
      },
      "execution_count": null,
      "outputs": []
    },
    {
      "cell_type": "code",
      "source": [],
      "metadata": {
        "id": "Cpxgnr_Uw-03"
      },
      "execution_count": null,
      "outputs": []
    }
  ]
}